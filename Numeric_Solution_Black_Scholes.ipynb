{
 "cells": [
  {
   "cell_type": "code",
   "execution_count": 46,
   "metadata": {},
   "outputs": [],
   "source": [
    "\n",
    "Reference: https://github.com/cantaro86/Financial-Models-Numerical-Methods/blob/master/2.1%20Black-Scholes%20PDE%20and%20sparse%20matrices.ipynb"
    "import numpy as np\n",
    "import matplotlib.pyplot as plt\n",
    "from matplotlib import cm\n",
    "import time\n",
    "\n",
    "%matplotlib inline\n",
    "\n",
    "from scipy import sparse\n",
    "from scipy.sparse.linalg import splu\n",
    "from scipy.sparse.linalg import spsolve\n",
    "\n",
    "from IPython.display import display\n",
    "import sympy\n",
    "\n",
    "sympy.init_printing()\n",
    "\n",
    "\n",
    "def display_matrix(m):\n",
    "    display(sympy.Matrix(m))"
   ]
  },
  {
   "cell_type": "code",
   "execution_count": 47,
   "metadata": {},
   "outputs": [
    {
     "data": {
      "image/png": "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",
      "text/latex": [
       "$\\displaystyle \\left[\\begin{matrix}0 & 0 & 0 & 0 & 0\\\\0 & 0 & 0 & 0 & 0\\\\1 & 3 & 0 & 0 & 0\\\\1 & 1 & 0 & 0 & 0\\\\0 & 0 & 0 & 0 & 0\\end{matrix}\\right]$"
      ],
      "text/plain": [
       "⎡0  0  0  0  0⎤\n",
       "⎢             ⎥\n",
       "⎢0  0  0  0  0⎥\n",
       "⎢             ⎥\n",
       "⎢1  3  0  0  0⎥\n",
       "⎢             ⎥\n",
       "⎢1  1  0  0  0⎥\n",
       "⎢             ⎥\n",
       "⎣0  0  0  0  0⎦"
      ]
     },
     "metadata": {},
     "output_type": "display_data"
    },
    {
     "name": "stdout",
     "output_type": "stream",
     "text": [
      "CSR representation:  (ordered by rows)\n",
      "  (2, 0)\t1\n",
      "  (2, 1)\t3\n",
      "  (3, 0)\t1\n",
      "  (3, 1)\t1\n",
      "CSC representation:  (ordered by columns)\n",
      "  (2, 0)\t1\n",
      "  (3, 0)\t1\n",
      "  (2, 1)\t3\n",
      "  (3, 1)\t1\n"
     ]
    }
   ],
   "source": [
    "start_time = time.time()\n",
    "np.random.seed(seed=44)\n",
    "dense_mat = np.random.binomial(n=1, p=0.1, size=(5, 5))  # Sparse matrix stored as a dense matrix\n",
    "dense_mat[2, 1] = 3\n",
    "sparse_mat = sparse.csr_matrix(dense_mat)  # Sparse matrix stored as a CSR sparse matrix\n",
    "\n",
    "display_matrix(sparse_mat.toarray())\n",
    "print(\"CSR representation:  (ordered by rows)\")\n",
    "sympy.pprint(sparse_mat)\n",
    "print(\"CSC representation:  (ordered by columns)\")\n",
    "sympy.pprint(sparse_mat.tocsc())"
   ]
  },
  {
   "cell_type": "code",
   "execution_count": 48,
   "metadata": {},
   "outputs": [
    {
     "data": {
      "image/png": "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",
      "text/latex": [
       "$\\displaystyle \\left[\\begin{matrix}0 & 0\\\\0 & 0\\\\8 & 8\\\\4 & 4\\\\0 & 0\\end{matrix}\\right]$"
      ],
      "text/plain": [
       "⎡0  0⎤\n",
       "⎢    ⎥\n",
       "⎢0  0⎥\n",
       "⎢    ⎥\n",
       "⎢8  8⎥\n",
       "⎢    ⎥\n",
       "⎢4  4⎥\n",
       "⎢    ⎥\n",
       "⎣0  0⎦"
      ]
     },
     "metadata": {},
     "output_type": "display_data"
    },
    {
     "data": {
      "image/png": "iVBORw0KGgoAAAANSUhEUgAAAKgAAAAzCAYAAAAD6kM0AAAACXBIWXMAAA7EAAAOxAGVKw4bAAAGq0lEQVR4Ae2d4XHcNhCFZY8KUOIOLh3YSgVxOrDSQewO4vEv6Z/HJcSpIJE7sDtIrA6SDqK4hLyP4p4pEjwCJIATZhYzEHDgEgs+PC5AEFw9ury8PDsJhKurqy+BYi9yBIogIL4FefhY2j4r/jeK74q0wit1BOYRuNahMQ+vH8mC/q0Dr8TgT/Pn+hFHoC4C4uNLabw4TVWrE3c657niH8r7NCAVQJdPQiCZoKr9qeKvRBFUySR8Ufk3k9IKBdJL2xgqnoVuHpVxc73qm8Kch9/vVF5t9JAumz79K93f9fr/UVo8tKh7DUG/F5J0aAhULOvr4kgPFAh0iPab4q3iuSKkm4Re7rVSI+iJ8i8k+FHpheKHyUmZC6SD+f5b06WUtn9W+qNiCM9sLVD9TepeQ9ATAB0jp7KOGEqLd/RQt/QxzbigTPlflGBFQ4E5zUvJQEhro1nONzpmZaFzN5dJJ/rPBrpPlGe0QS8j0gTTzUr7CqSjWd2PV4Dw58w5DJV76zQjc8ziGymHzMQuQBDLV0i5iWjDOIDnc7XlbHwg4+9mdSdbUAE5sTQqY171NiOg2atSG7GW9+bGKmOIJ2DBSgemP+8DSmxo5/gE24D8mqJmda+xoPcAUicztD9VGrIO92Qf0g+1l07jxmKJLUScbM1V/THW8dtsCgcVta77dHAta7N0sj2Zrq2j2nnqMOaokJOHPW6qvxRLByPfoSlFDInXtLNp3ZsIqs7GejJ/6h5S1qBX+xy1FVJ21l55hnieoqs8xS9c65OF4yUPP1jdW4d4HopsDlUSwCJ1i5jM+bBq18qXsmC0/ZY/M8EsHOuiJULTurcSFAt0CIASgK+qUwRknszwPg42xDPsFwnSa0N76CawsiI3euu6VxNUFw6wO0UDv0jnZqyUhWqGcyNExqqjqmIVAbzGwSyorcmOj+f43azu1QQVauc9ck1YULWVG+nDwKL0zd9fR0mCoItXsIaZ6SZ9pngTaNdQZmu+Wd1bCGqW6CFZUJvsm1UadiyvYD8OC0QKpihcB0tNRa9D9bOUddvr7JqhPLp/Uvy5Kyj0p2XdW57ib4QnnTr3ZqkQ3NNq1QFYCILNI3noYU7Ha81ujZNUkRWH4aI8Qy7vwUtbT9pGwFryxo0lLh6KSH/Qb7AsHZrU7ftBS9PC61+FgG7abj/oliF+lWI/yRFIQcAJmoKWy1ZHwAlaHXJXmIKAEzQFLZetjoATtDrkrjAFASdoClouWx0BJ2h1yF1hCgJO0BS0XLY6Ak7Q6pC7whQEtrzq3OvRqv9OP3jN6M4c9qh4JgcC0QQVCdlLyTvvkFMEjvGO+yjOHPobxL4oZQMGN8zEIUOsnM4tFtQG+zyGd/HuuGEB6YMEFZh09qJTBMmw6YENF6FNt1jWYs4c+jYuOmSIlVNbiwW1gT2p7rjhjldRDisOzkEFKI4F+F4H6/T7oZ6TDLuC2La2j5LHWnxSWanPaWmSOWRg65wF2530xgqUxsoNTsmXFQZB5wnSADbDHVb5lPY1taz7IEETkJrbclfDmYNt+2PrXxfUIfu8lSmNlRuckjXLh4WhbXVg544bZqA+OMTPnDMpDllIlWE9iztzkB6s5aJDhli5ycXlK2CqE/r+3qZFHC810jSrO5cFvdeNIsNOBUdx5iDddAY3B1ONECG6tsbKdcIb/0gXc/mlEPoKYOmcxeOt6z5dvMJ1AhCEWC2oI1hJgJw8sDGU2teayn4NsXJfz8iSM/KFph6mIIbEJpuSNq07O0FFAKxndWcO0gspuzme8jwwBR0yxMqlMCCTrH1Plam6pGoerO4SQ/zRnTmIhMzlsFYHHTLEyiV1dVj4NlzclZqFY120RGhadwmCYr0OgZK1E0SyKIcMsXJZG9dXJt02tIeGcSuzh6WsTWhdd1aCCgzA3ilah2QFe6YyFr9jHDLEys2o2VzMagPYjINZUFu7HR/P8btZ3VkJKiTPezSrWVDp42aIccgQK9dfQvaE18SGz7ByPgd2xw1DRAb5FILaRNru+EE1+ywWlFDTgsY6ZIiVu7uCzH81urjjhh7TfqSNclix+BSvyrjzCSzhECZOEe6Ku783+gs5594sDUTzZOl4xUWHDLFyeVo1WwvW0h03JDiscMcNs1zyA8dEQAbFHTccswNcdxwCKXPQuBpdyhHIiIATNCOYXlV+BJyg+TH1GjMi4ATNCKZXlR8BW2ba6anJ1jA7Lfpdcy0z/5V5jU0hMOafGt/x0SwonxwM/5l81a1yTSHpjS2FAOvtEw7+DwM+HnR2dYdNAAAAAElFTkSuQmCC",
      "text/latex": [
       "$\\displaystyle \\left[\\begin{matrix}7 & 13 & 0 & 0 & 0\\\\17 & 33 & 0 & 0 & 0\\end{matrix}\\right]$"
      ],
      "text/plain": [
       "⎡7   13  0  0  0⎤\n",
       "⎢               ⎥\n",
       "⎣17  33  0  0  0⎦"
      ]
     },
     "metadata": {},
     "output_type": "display_data"
    }
   ],
   "source": [
    "two_dense = 2 * np.ones(shape=(5, 2), dtype=np.int32)  # Example of dense matrix\n",
    "range_dense = np.reshape(np.array([i for i in range(1, 11)]), (2, 5))  # Second example of dense matrix\n",
    "\n",
    "# The product is a dense matrix\n",
    "display_matrix(sparse_mat @ two_dense)\n",
    "display_matrix(range_dense @ sparse_mat)   "
   ]
  },
  {
   "cell_type": "code",
   "execution_count": 49,
   "metadata": {},
   "outputs": [
    {
     "name": "stdout",
     "output_type": "stream",
     "text": [
      "<class 'numpy.ndarray'>\n",
      "<class 'numpy.matrix'>\n"
     ]
    }
   ],
   "source": [
    "print(type(sparse_mat.toarray()))\n",
    "print(type(sparse_mat.todense()))"
   ]
  },
  {
   "cell_type": "code",
   "execution_count": 50,
   "metadata": {},
   "outputs": [
    {
     "data": {
      "image/png": "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",
      "text/latex": [
       "$\\displaystyle \\left[\\begin{matrix}1.0 & 5.0 & 0 & 0 & 0\\\\-2.0 & 1.0 & 5.0 & 0 & 0\\\\0 & -2.0 & 1.0 & 5.0 & 0\\\\0 & 0 & -2.0 & 1.0 & 5.0\\\\0 & 0 & 0 & -2.0 & 1.0\\end{matrix}\\right]$"
      ],
      "text/plain": [
       "⎡1.0   5.0    0     0     0 ⎤\n",
       "⎢                           ⎥\n",
       "⎢-2.0  1.0   5.0    0     0 ⎥\n",
       "⎢                           ⎥\n",
       "⎢ 0    -2.0  1.0   5.0    0 ⎥\n",
       "⎢                           ⎥\n",
       "⎢ 0     0    -2.0  1.0   5.0⎥\n",
       "⎢                           ⎥\n",
       "⎣ 0     0     0    -2.0  1.0⎦"
      ]
     },
     "metadata": {},
     "output_type": "display_data"
    },
    {
     "name": "stdout",
     "output_type": "stream",
     "text": [
      "The representation type of the diagonal matrix is:  <class 'scipy.sparse._dia.dia_matrix'>\n",
      "  (1, 0)\t-2.0\n",
      "  (2, 1)\t-2.0\n",
      "  (3, 2)\t-2.0\n",
      "  (4, 3)\t-2.0\n",
      "   (0, 0)\t1.0\n",
      "   (1, 1)\t1.0\n",
      "   (2, 2)\t1.0\n",
      "   (3, 3)\t1.0\n",
      "   (4, 4)\t1.0\n",
      "   (0, 1)\t5.0\n",
      "   (1, 2)\t5.0\n",
      "   (2, 3)\t5.0\n",
      "   (3, 4)\t5.0\n"
     ]
    }
   ],
   "source": [
    "diagonal = sparse.diags([-2, 1, 5], [-1, 0, 1], shape=(5, 5))\n",
    "display_matrix(diagonal.toarray())\n",
    "print(\"The representation type of the diagonal matrix is: \", type(diagonal))\n",
    "sympy.pprint(diagonal)"
   ]
  },
  {
   "cell_type": "code",
   "execution_count": 51,
   "metadata": {},
   "outputs": [
    {
     "name": "stdout",
     "output_type": "stream",
     "text": [
      "The unknown 'x' is exactly what we expected:\n"
     ]
    },
    {
     "data": {
      "image/png": "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",
      "text/latex": [
       "$\\displaystyle \\left[\\begin{matrix}1.0\\\\2.0\\\\3.0\\\\4.0\\\\5.0\\end{matrix}\\right]$"
      ],
      "text/plain": [
       "⎡1.0⎤\n",
       "⎢   ⎥\n",
       "⎢2.0⎥\n",
       "⎢   ⎥\n",
       "⎢3.0⎥\n",
       "⎢   ⎥\n",
       "⎢4.0⎥\n",
       "⎢   ⎥\n",
       "⎣5.0⎦"
      ]
     },
     "metadata": {},
     "output_type": "display_data"
    },
    {
     "data": {
      "image/png": "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",
      "text/latex": [
       "$\\displaystyle \\left[\\begin{matrix}1.0\\\\2.0\\\\3.0\\\\4.0\\\\5.0\\end{matrix}\\right]$"
      ],
      "text/plain": [
       "⎡1.0⎤\n",
       "⎢   ⎥\n",
       "⎢2.0⎥\n",
       "⎢   ⎥\n",
       "⎢3.0⎥\n",
       "⎢   ⎥\n",
       "⎢4.0⎥\n",
       "⎢   ⎥\n",
       "⎣5.0⎦"
      ]
     },
     "metadata": {},
     "output_type": "display_data"
    }
   ],
   "source": [
    "A = 3 * sparse.eye(5)\n",
    "x = np.array([[i] for i in range(1, 6)])\n",
    "b = A @ x\n",
    "\n",
    "print(\"The unknown 'x' is exactly what we expected:\")\n",
    "# Solution by spsolve\n",
    "display_matrix(spsolve(A.tocsr(), b))\n",
    "\n",
    "# Solution by LU decomposition\n",
    "A_LU = splu(A.tocsc())\n",
    "display_matrix(A_LU.solve(b))"
   ]
  },
  {
   "cell_type": "code",
   "execution_count": 52,
   "metadata": {},
   "outputs": [],
   "source": [
    "r = 0.1\n",
    "sig = 0.2\n",
    "S0 = 200\n",
    "X0 = np.log(S0)\n",
    "K = 200\n",
    "Texpir = 1"
   ]
  },
  {
   "cell_type": "code",
   "execution_count": 53,
   "metadata": {},
   "outputs": [],
   "source": [
    "\n",
    "Nspace = 3000  # M space steps\n",
    "Ntime = 2000  # N time steps\n",
    "\n",
    "S_max = 3 * float(K)\n",
    "S_min = float(K) / 3\n",
    "\n",
    "x_max = np.log(S_max)  # A2\n",
    "x_min = np.log(S_min)  # A1"
   ]
  },
  {
   "cell_type": "code",
   "execution_count": 54,
   "metadata": {},
   "outputs": [],
   "source": [
    "x, dx = np.linspace(x_min, x_max, Nspace, retstep=True)  # space discretization\n",
    "T, dt = np.linspace(0, Texpir, Ntime, retstep=True)  # time discretization\n",
    "Payoff = np.maximum(np.exp(x) - K, 0)  # Call payoff"
   ]
  },
  {
   "cell_type": "code",
   "execution_count": 55,
   "metadata": {},
   "outputs": [],
   "source": [
    "\n",
    "V = np.zeros((Nspace, Ntime))  # grid initialization\n",
    "offset = np.zeros(Nspace - 2)  # vector to be used for the boundary terms\n",
    "\n",
    "V[:, -1] = Payoff  # terminal conditions\n",
    "V[-1, :] = np.exp(x_max) - K * np.exp(-r * T[::-1])  # boundary condition\n",
    "V[0, :] = 0  # boundary condition"
   ]
  },
  {
   "cell_type": "code",
   "execution_count": 56,
   "metadata": {},
   "outputs": [],
   "source": [
    "# construction of the tri-diagonal matrix D\n",
    "sig2 = sig * sig\n",
    "dxx = dx * dx\n",
    "\n",
    "a = (dt / 2) * ((r - 0.5 * sig2) / dx - sig2 / dxx)\n",
    "b = 1 + dt * (sig2 / dxx + r)\n",
    "c = -(dt / 2) * ((r - 0.5 * sig2) / dx + sig2 / dxx)\n",
    "\n",
    "D = sparse.diags([a, b, c], [-1, 0, 1], shape=(Nspace - 2, Nspace - 2)).tocsc()"
   ]
  },
  {
   "cell_type": "code",
   "execution_count": 57,
   "metadata": {},
   "outputs": [],
   "source": [
    "# Backward iteration\n",
    "for i in range(Ntime - 2, -1, -1):\n",
    "    offset[0] = a * V[0, i]\n",
    "    offset[-1] = c * V[-1, i]\n",
    "    V[1:-1, i] = spsolve(D, (V[1:-1, i + 1] - offset))"
   ]
  },
  {
   "cell_type": "code",
   "execution_count": 58,
   "metadata": {},
   "outputs": [
    {
     "name": "stdout",
     "output_type": "stream",
     "text": [
      "26.53828815206148\n"
     ]
    }
   ],
   "source": [
    "# finds the option at S0\n",
    "oPrice = np.interp(X0, x, V[:, 0])\n",
    "print(oPrice)\n",
    "end_time = time.time()"
   ]
  },
  {
   "cell_type": "code",
   "execution_count": 59,
   "metadata": {},
   "outputs": [
    {
     "data": {
      "image/png": "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",
      "text/plain": [
       "<Figure size 1500x600 with 1 Axes>"
      ]
     },
     "metadata": {},
     "output_type": "display_data"
    },
    {
     "name": "stdout",
     "output_type": "stream",
     "text": [
      "MSE: 222.15386276321055 Process Time: 11.104031085968018\n"
     ]
    }
   ],
   "source": [
    "S = np.exp(x)\n",
    "fig = plt.figure(figsize=(15, 6))\n",
    "ax1 = fig.add_subplot(121)\n",
    "\n",
    "ax1.plot(S, Payoff, color=\"tab:grey\", alpha=0.6, label=\"Payoff\")\n",
    "ax1.plot(S, V[:, 0], color=\"tab:green\", alpha=0.6, label=\"Numeric Solution\")\n",
    "ax1.set_xlim(0, 500)\n",
    "ax1.set_ylim(0, 300)\n",
    "ax1.set_xlabel(\"S\")\n",
    "ax1.set_ylabel(\"price\")\n",
    "ax1.legend(loc=\"upper left\")\n",
    "ax1.set_title(\"Numerical Solution\")\n",
    "plt.show()\n",
    "# Calculating MSE\n",
    "squared_differences = [(Payoff - V) ** 2 for Payoff, V in zip(Payoff, V[:, 0])]\n",
    "    \n",
    "# Calculate the mean of the squared differences\n",
    "mse = sum(squared_differences) / len(squared_differences)\n",
    "print(f\"MSE: {mse} Process Time: {end_time - start_time}\")"
   ]
  }
 ],
 "metadata": {
  "kernelspec": {
   "display_name": "base",
   "language": "python",
   "name": "python3"
  },
  "language_info": {
   "codemirror_mode": {
    "name": "ipython",
    "version": 3
   },
   "file_extension": ".py",
   "mimetype": "text/x-python",
   "name": "python",
   "nbconvert_exporter": "python",
   "pygments_lexer": "ipython3",
   "version": "3.11.4"
  }
 },
 "nbformat": 4,
 "nbformat_minor": 2
}
